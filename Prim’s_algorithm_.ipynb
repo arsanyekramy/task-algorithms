{
  "nbformat": 4,
  "nbformat_minor": 0,
  "metadata": {
    "colab": {
      "provenance": []
    },
    "kernelspec": {
      "name": "python3",
      "display_name": "Python 3"
    },
    "language_info": {
      "name": "python"
    }
  },
  "cells": [
    {
      "cell_type": "code",
      "execution_count": 2,
      "metadata": {
        "colab": {
          "base_uri": "https://localhost:8080/"
        },
        "id": "9kp-Mc5yyBxX",
        "outputId": "00f4e84b-111d-4fb8-c33a-20dd61f6351a"
      },
      "outputs": [
        {
          "output_type": "stream",
          "name": "stdout",
          "text": [
            "Edges in the Minimum Spanning Tree:\n",
            "0 -- 1 == 2\n",
            "1 -- 2 == 3\n",
            "1 -- 4 == 5\n",
            "0 -- 3 == 6\n"
          ]
        }
      ],
      "source": [
        "import heapq\n",
        "\n",
        "class Graph:\n",
        "    def __init__(self, vertices):\n",
        "        self.V = vertices  # Number of vertices\n",
        "        self.graph = {}    # Dictionary to store the graph\n",
        "\n",
        "    def add_edge(self, u, v, weight):\n",
        "        if u not in self.graph:\n",
        "            self.graph[u] = []\n",
        "        if v not in self.graph:\n",
        "            self.graph[v] = []\n",
        "        self.graph[u].append((v, weight))\n",
        "        self.graph[v].append((u, weight))  # For undirected graph\n",
        "\n",
        "    def prim_mst(self):\n",
        "        # Initialize a priority queue\n",
        "        min_heap = []\n",
        "        visited = set()\n",
        "        mst_edges = []\n",
        "\n",
        "        # Start from the first vertex (0)\n",
        "        starting_vertex = 0\n",
        "        visited.add(starting_vertex)\n",
        "\n",
        "        # Add all edges from the starting vertex to the priority queue\n",
        "        for neighbor, weight in self.graph.get(starting_vertex, []):\n",
        "            heapq.heappush(min_heap, (weight, starting_vertex, neighbor))\n",
        "\n",
        "        while min_heap:\n",
        "            weight, u, v = heapq.heappop(min_heap)\n",
        "\n",
        "            if v not in visited:\n",
        "                visited.add(v)\n",
        "                mst_edges.append((u, v, weight))\n",
        "\n",
        "                # Add all edges from the newly added vertex to the priority queue\n",
        "                for next_neighbor, next_weight in self.graph.get(v, []):\n",
        "                    if next_neighbor not in visited:\n",
        "                        heapq.heappush(min_heap, (next_weight, v, next_neighbor))\n",
        "\n",
        "        return mst_edges\n",
        "\n",
        "# Example usage\n",
        "if __name__ == \"__main__\":\n",
        "    g = Graph(5)  # Create a graph with 5 vertices\n",
        "    g.add_edge(0, 1, 2)\n",
        "    g.add_edge(0, 3, 6)\n",
        "    g.add_edge(1, 2, 3)\n",
        "    g.add_edge(1, 3, 8)\n",
        "    g.add_edge(1, 4, 5)\n",
        "    g.add_edge(2, 4, 7)\n",
        "    g.add_edge(3, 4, 9)\n",
        "\n",
        "    mst = g.prim_mst()\n",
        "\n",
        "    print(\"Edges in the Minimum Spanning Tree:\")\n",
        "    for u, v, weight in mst:\n",
        "        print(f\"{u} -- {v} == {weight}\")"
      ]
    }
  ]
}