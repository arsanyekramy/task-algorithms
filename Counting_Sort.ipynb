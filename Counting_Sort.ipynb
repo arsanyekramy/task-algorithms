{
  "nbformat": 4,
  "nbformat_minor": 0,
  "metadata": {
    "colab": {
      "provenance": []
    },
    "kernelspec": {
      "name": "python3",
      "display_name": "Python 3"
    },
    "language_info": {
      "name": "python"
    }
  },
  "cells": [
    {
      "cell_type": "code",
      "execution_count": 1,
      "metadata": {
        "colab": {
          "base_uri": "https://localhost:8080/"
        },
        "id": "rQrWldxTvXq_",
        "outputId": "2339dfe2-aa09-4a85-f10c-2a32290accaa"
      },
      "outputs": [
        {
          "output_type": "stream",
          "name": "stdout",
          "text": [
            "Original array:\n",
            "[4, 2, 2, 8, 3, 3, 1]\n",
            "Sorted array:\n",
            "[1, 2, 2, 3, 3, 4, 8]\n"
          ]
        }
      ],
      "source": [
        "def counting_sort(arr):\n",
        "    # Find the maximum value in the array\n",
        "    max_val = max(arr)\n",
        "\n",
        "    # Create a count array to store the count of each unique object\n",
        "    count = [0] * (max_val + 1)\n",
        "\n",
        "    # Store the count of each number\n",
        "    for num in arr:\n",
        "        count[num] += 1\n",
        "\n",
        "    # Build the sorted output array\n",
        "    sorted_index = 0\n",
        "    for i in range(len(count)):\n",
        "        while count[i] > 0:\n",
        "            arr[sorted_index] = i\n",
        "            sorted_index += 1\n",
        "            count[i] -= 1\n",
        "\n",
        "# Example usage\n",
        "if __name__ == \"__main__\":\n",
        "    array = [4, 2, 2, 8, 3, 3, 1]\n",
        "\n",
        "    print(\"Original array:\")\n",
        "    print(array)\n",
        "\n",
        "    counting_sort(array)\n",
        "\n",
        "    print(\"Sorted array:\")\n",
        "    print(array)\n"
      ]
    }
  ]
}